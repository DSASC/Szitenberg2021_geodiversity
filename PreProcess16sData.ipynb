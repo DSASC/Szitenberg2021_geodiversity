{
 "cells": [
  {
   "cell_type": "code",
   "execution_count": 1,
   "metadata": {},
   "outputs": [],
   "source": [
    "import glob\n",
    "import pandas as pd\n",
    "from Bio import SeqIO\n",
    "from gzip import open as gopen\n",
    "from collections import Counter"
   ]
  },
  {
   "cell_type": "markdown",
   "metadata": {},
   "source": [
    "### Cut and merge the 16rRNA reads"
   ]
  },
  {
   "cell_type": "code",
   "execution_count": 10,
   "metadata": {},
   "outputs": [
    {
     "data": {
      "text/html": [
       "<div>\n",
       "<style scoped>\n",
       "    .dataframe tbody tr th:only-of-type {\n",
       "        vertical-align: middle;\n",
       "    }\n",
       "\n",
       "    .dataframe tbody tr th {\n",
       "        vertical-align: top;\n",
       "    }\n",
       "\n",
       "    .dataframe thead th {\n",
       "        text-align: right;\n",
       "    }\n",
       "</style>\n",
       "<table border=\"1\" class=\"dataframe\">\n",
       "  <thead>\n",
       "    <tr style=\"text-align: right;\">\n",
       "      <th></th>\n",
       "      <th>R1_count</th>\n",
       "      <th>R2_count</th>\n",
       "      <th>R1_mode_length</th>\n",
       "      <th>R1_count_at_mode_length</th>\n",
       "      <th>R2_mode_length</th>\n",
       "      <th>R2_count_at_mode_length</th>\n",
       "      <th>Mode_overlap</th>\n",
       "      <th>Count_at_mode_overlap</th>\n",
       "    </tr>\n",
       "  </thead>\n",
       "  <tbody>\n",
       "    <tr>\n",
       "      <th>AS3033</th>\n",
       "      <td>11047</td>\n",
       "      <td>11615</td>\n",
       "      <td>130</td>\n",
       "      <td>11047</td>\n",
       "      <td>130</td>\n",
       "      <td>10643</td>\n",
       "      <td>8</td>\n",
       "      <td>8153</td>\n",
       "    </tr>\n",
       "    <tr>\n",
       "      <th>AS3074</th>\n",
       "      <td>4145</td>\n",
       "      <td>5154</td>\n",
       "      <td>130</td>\n",
       "      <td>4145</td>\n",
       "      <td>130</td>\n",
       "      <td>4008</td>\n",
       "      <td>8</td>\n",
       "      <td>3019</td>\n",
       "    </tr>\n",
       "    <tr>\n",
       "      <th>AS3053</th>\n",
       "      <td>61</td>\n",
       "      <td>121</td>\n",
       "      <td>130</td>\n",
       "      <td>61</td>\n",
       "      <td>130</td>\n",
       "      <td>58</td>\n",
       "      <td>8</td>\n",
       "      <td>36</td>\n",
       "    </tr>\n",
       "    <tr>\n",
       "      <th>AS3026</th>\n",
       "      <td>1317</td>\n",
       "      <td>1633</td>\n",
       "      <td>130</td>\n",
       "      <td>1317</td>\n",
       "      <td>130</td>\n",
       "      <td>1271</td>\n",
       "      <td>8</td>\n",
       "      <td>973</td>\n",
       "    </tr>\n",
       "    <tr>\n",
       "      <th>AS3057</th>\n",
       "      <td>26070</td>\n",
       "      <td>27878</td>\n",
       "      <td>130</td>\n",
       "      <td>26070</td>\n",
       "      <td>130</td>\n",
       "      <td>25483</td>\n",
       "      <td>8</td>\n",
       "      <td>20352</td>\n",
       "    </tr>\n",
       "    <tr>\n",
       "      <th>...</th>\n",
       "      <td>...</td>\n",
       "      <td>...</td>\n",
       "      <td>...</td>\n",
       "      <td>...</td>\n",
       "      <td>...</td>\n",
       "      <td>...</td>\n",
       "      <td>...</td>\n",
       "      <td>...</td>\n",
       "    </tr>\n",
       "    <tr>\n",
       "      <th>AS3039</th>\n",
       "      <td>9160</td>\n",
       "      <td>10175</td>\n",
       "      <td>130</td>\n",
       "      <td>9160</td>\n",
       "      <td>130</td>\n",
       "      <td>8943</td>\n",
       "      <td>8</td>\n",
       "      <td>6605</td>\n",
       "    </tr>\n",
       "    <tr>\n",
       "      <th>AS3007</th>\n",
       "      <td>11748</td>\n",
       "      <td>12539</td>\n",
       "      <td>130</td>\n",
       "      <td>11748</td>\n",
       "      <td>130</td>\n",
       "      <td>11263</td>\n",
       "      <td>8</td>\n",
       "      <td>8633</td>\n",
       "    </tr>\n",
       "    <tr>\n",
       "      <th>AS3009</th>\n",
       "      <td>15144</td>\n",
       "      <td>15669</td>\n",
       "      <td>130</td>\n",
       "      <td>15144</td>\n",
       "      <td>130</td>\n",
       "      <td>14737</td>\n",
       "      <td>8</td>\n",
       "      <td>11426</td>\n",
       "    </tr>\n",
       "    <tr>\n",
       "      <th>AS3023</th>\n",
       "      <td>30699</td>\n",
       "      <td>32463</td>\n",
       "      <td>130</td>\n",
       "      <td>30699</td>\n",
       "      <td>130</td>\n",
       "      <td>30041</td>\n",
       "      <td>8</td>\n",
       "      <td>24678</td>\n",
       "    </tr>\n",
       "    <tr>\n",
       "      <th>AS3047</th>\n",
       "      <td>29918</td>\n",
       "      <td>31591</td>\n",
       "      <td>130</td>\n",
       "      <td>29918</td>\n",
       "      <td>130</td>\n",
       "      <td>29292</td>\n",
       "      <td>8</td>\n",
       "      <td>23692</td>\n",
       "    </tr>\n",
       "  </tbody>\n",
       "</table>\n",
       "<p>74 rows × 8 columns</p>\n",
       "</div>"
      ],
      "text/plain": [
       "       R1_count R2_count R1_mode_length R1_count_at_mode_length  \\\n",
       "AS3033    11047    11615            130                   11047   \n",
       "AS3074     4145     5154            130                    4145   \n",
       "AS3053       61      121            130                      61   \n",
       "AS3026     1317     1633            130                    1317   \n",
       "AS3057    26070    27878            130                   26070   \n",
       "...         ...      ...            ...                     ...   \n",
       "AS3039     9160    10175            130                    9160   \n",
       "AS3007    11748    12539            130                   11748   \n",
       "AS3009    15144    15669            130                   15144   \n",
       "AS3023    30699    32463            130                   30699   \n",
       "AS3047    29918    31591            130                   29918   \n",
       "\n",
       "       R2_mode_length R2_count_at_mode_length Mode_overlap  \\\n",
       "AS3033            130                   10643            8   \n",
       "AS3074            130                    4008            8   \n",
       "AS3053            130                      58            8   \n",
       "AS3026            130                    1271            8   \n",
       "AS3057            130                   25483            8   \n",
       "...               ...                     ...          ...   \n",
       "AS3039            130                    8943            8   \n",
       "AS3007            130                   11263            8   \n",
       "AS3009            130                   14737            8   \n",
       "AS3023            130                   30041            8   \n",
       "AS3047            130                   29292            8   \n",
       "\n",
       "       Count_at_mode_overlap  \n",
       "AS3033                  8153  \n",
       "AS3074                  3019  \n",
       "AS3053                    36  \n",
       "AS3026                   973  \n",
       "AS3057                 20352  \n",
       "...                      ...  \n",
       "AS3039                  6605  \n",
       "AS3007                  8633  \n",
       "AS3009                 11426  \n",
       "AS3023                 24678  \n",
       "AS3047                 23692  \n",
       "\n",
       "[74 rows x 8 columns]"
      ]
     },
     "execution_count": 10,
     "metadata": {},
     "output_type": "execute_result"
    }
   ],
   "source": [
    "!mkdir -p cut_reads/16SrRNA\n",
    "\n",
    "for f in glob.glob('raw_data/16SrRNA/AS*_S*_L001_R*_001.fastq.gz'):\n",
    "    outf = 'cut_reads/16SrRNA/%s' % f.split('/')[-1]\n",
    "    smpl = f.split('/')[-1].split('_')[0]\n",
    "    records = SeqIO.parse(gopen(f,'rt'),'fastq')\n",
    "    with gopen(outf,'wt') as hndl:\n",
    "        for r in records:\n",
    "            \n",
    "            # Bad sequences have monomorphic ends.\n",
    "            # I skip sequences that were close to monomorphic in the last\n",
    "            # 40 base pairs\n",
    "            counts = Counter(str(r[110:150].seq).upper())\n",
    "            proportions = {i: counts[i]/sum(counts.values()) for i in counts.keys()}\n",
    "            if any([proportions[i] > 0.5 for i in proportions.keys()]):\n",
    "                continue\n",
    "                \n",
    "            hndl.write(r[20:150].format('fastq'))\n",
    "\n",
    "!mkdir -p merged/16SrRNA\n",
    "\n",
    "df = pd.DataFrame(columns=['R1_count','R2_count',\n",
    "                           'R1_mode_length','R1_count_at_mode_length',\n",
    "                           'R2_mode_length','R2_count_at_mode_length',\n",
    "                           'Mode_overlap','Count_at_mode_overlap'])\n",
    "\n",
    "for f1 in glob.glob('cut_reads/16SrRNA/AS*_S*_L001_R1_001.fastq.gz'):\n",
    "    f2 = f1.replace('_R1_','_R2_')\n",
    "    \n",
    "    smpl = f1.split('/')[-1].split('_')[0]\n",
    "    \n",
    "    merged = gopen('merged/16SrRNA/%s' % f1.split('/')[-1], 'wt')\n",
    "\n",
    "    r1s = list(SeqIO.parse(gopen(f1,'rt'),'fastq'))\n",
    "    r2s = SeqIO.to_dict(SeqIO.parse(gopen(f2,'rt'),'fastq'))\n",
    "    \n",
    "    count_r1 = len(r1s)\n",
    "    count_r2 = len(r2s)\n",
    "    \n",
    "    overlapps = []\n",
    "    r1_lengths= []\n",
    "    r2_lengths= []\n",
    "    \n",
    "    for r1 in r1s:\n",
    "        r1seq = str(r1.seq)\n",
    "        r1_lengths.append(len(r1))\n",
    "        try:\n",
    "            r2seq = str(r2s[r1.id].seq.reverse_complement())\n",
    "        except:\n",
    "            continue\n",
    "        r2_lengths.append(len(r2seq))\n",
    "        over_len = 30\n",
    "        r1_window = r1seq[-1*over_len:]\n",
    "        r2_window = r2seq[:over_len]\n",
    "        while over_len > 0 and r1_window != r2_window:\n",
    "            over_len -= 1\n",
    "            r1_window = r1seq[-1*over_len:]\n",
    "            r2_window = r2seq[:over_len]\n",
    "        overlapps.append(over_len)\n",
    "        if over_len > 5:\n",
    "            r2 = r2s[r1.id]\n",
    "            m = r1 + r2.reverse_complement()[over_len:]\n",
    "            m.id = r1.id\n",
    "            m.description = r1.description\n",
    "            merged.write(m.format('fastq'))\n",
    "    merged.close()        \n",
    "    if len(overlapps) == 0:\n",
    "        print( smpl)\n",
    "            \n",
    "    ovlp_mode, ovlp_count_at_mode = sorted(Counter(overlapps).items(), key=lambda k: k[1], reverse=True)[0]\n",
    "    r1len_mode, r1len_count_at_mode = sorted(Counter(r1_lengths).items(), key=lambda k: k[1], reverse=True)[0]\n",
    "    r2len_mode, r2len_count_at_mode = sorted(Counter(r2_lengths).items(), key=lambda k: k[1], reverse=True)[0]\n",
    "    df.loc[smpl] = [count_r1,count_r2,r1len_mode,r1len_count_at_mode,r2len_mode,r2len_count_at_mode,ovlp_mode,ovlp_count_at_mode]\n",
    "df"
   ]
  },
  {
   "cell_type": "code",
   "execution_count": 11,
   "metadata": {},
   "outputs": [],
   "source": [
    "df.to_csv('merged_16SrRNA_read_stas.tsv', sep='\\t')"
   ]
  },
  {
   "cell_type": "code",
   "execution_count": 12,
   "metadata": {},
   "outputs": [
    {
     "data": {
      "text/plain": [
       "<matplotlib.axes._subplots.AxesSubplot at 0x7f3456265278>"
      ]
     },
     "execution_count": 12,
     "metadata": {},
     "output_type": "execute_result"
    },
    {
     "data": {
      "image/png": "[encoded data removed]",
      "text/plain": [
       "<Figure size 432x288 with 1 Axes>"
      ]
     },
     "metadata": {
      "needs_background": "light"
     },
     "output_type": "display_data"
    }
   ],
   "source": [
    "import pandas as pd\n",
    "import seaborn as sns\n",
    "%matplotlib inline\n",
    "\n",
    "df = pd.read_csv('merged_16SrRNA_read_stas.tsv', sep='\\t',index_col=0)\n",
    "sns.distplot(df.Count_at_mode_overlap,kde=False,bins=30)"
   ]
  },
  {
   "cell_type": "markdown",
   "metadata": {},
   "source": [
    "### Import merged reads to qiime2"
   ]
  },
  {
   "cell_type": "code",
   "execution_count": 13,
   "metadata": {},
   "outputs": [
    {
     "name": "stdout",
     "output_type": "stream",
     "text": [
      "/home/amir/anaconda3/envs/qiime2-2020.8/lib/python3.6/site-packages/skbio/util/_testing.py:15: FutureWarning: pandas.util.testing is deprecated. Use the functions in the public API at pandas.testing instead.\n",
      "  import pandas.util.testing as pdt\n",
      "\u001b[32mImported merged/16SrRNA as CasavaOneEightSingleLanePerSampleDirFmt to merged/16SrRNA/demux.qza\u001b[0m\n"
     ]
    }
   ],
   "source": [
    "!qiime tools import \\\n",
    "  --type 'SampleData[SequencesWithQuality]' \\\n",
    "  --input-path merged/16SrRNA \\\n",
    "  --input-format CasavaOneEightSingleLanePerSampleDirFmt \\\n",
    "  --output-path merged/16SrRNA/demux.qza"
   ]
  },
  {
   "cell_type": "markdown",
   "metadata": {},
   "source": [
    "### Run DADA2"
   ]
  },
  {
   "cell_type": "code",
   "execution_count": 14,
   "metadata": {},
   "outputs": [
    {
     "name": "stdout",
     "output_type": "stream",
     "text": [
      "mkdir: cannot create directory ‘dada/16SrRNA’: File exists\n",
      "/home/amir/anaconda3/envs/qiime2-2020.8/lib/python3.6/site-packages/skbio/util/_testing.py:15: FutureWarning: pandas.util.testing is deprecated. Use the functions in the public API at pandas.testing instead.\n",
      "  import pandas.util.testing as pdt\n",
      "\u001b[32mSaved FeatureTable[Frequency] to: dada/16SrRNA/table.qza\u001b[0m\n",
      "\u001b[32mSaved FeatureData[Sequence] to: dada/16SrRNA/rep-seqs.qza\u001b[0m\n",
      "\u001b[32mSaved SampleData[DADA2Stats] to: dada/16SrRNA/stats.qza\u001b[0m\n"
     ]
    }
   ],
   "source": [
    "!mkdir dada/16SrRNA\n",
    "!qiime dada2 denoise-single \\\n",
    "  --i-demultiplexed-seqs merged/16SrRNA/demux.qza \\\n",
    "  --p-trim-left 0 \\\n",
    "  --p-trunc-len 250 \\\n",
    "  --p-max-ee 5.0 \\\n",
    "  --o-representative-sequences dada/16SrRNA/rep-seqs.qza \\\n",
    "  --o-table dada/16SrRNA/table.qza \\\n",
    "  --o-denoising-stats dada/16SrRNA/stats.qza"
   ]
  },
  {
   "cell_type": "code",
   "execution_count": 15,
   "metadata": {},
   "outputs": [
    {
     "name": "stdout",
     "output_type": "stream",
     "text": [
      "/home/amir/anaconda3/envs/qiime2-2020.8/lib/python3.6/site-packages/skbio/util/_testing.py:15: FutureWarning: pandas.util.testing is deprecated. Use the functions in the public API at pandas.testing instead.\n",
      "  import pandas.util.testing as pdt\n",
      "\u001b[32mSaved Visualization to: dada/16SrRNA/stats.qzv\u001b[0m\n"
     ]
    }
   ],
   "source": [
    "!qiime metadata tabulate \\\n",
    "  --m-input-file dada/16SrRNA/stats.qza \\\n",
    "  --o-visualization dada/16SrRNA/stats.qzv"
   ]
  },
  {
   "cell_type": "markdown",
   "metadata": {},
   "source": [
    "### Assign taxonomy to ASVs"
   ]
  },
  {
   "cell_type": "code",
   "execution_count": 18,
   "metadata": {},
   "outputs": [
    {
     "name": "stdout",
     "output_type": "stream",
     "text": [
      "--2020-12-27 08:35:31--  https://data.qiime2.org/2020.8/common/silva-138-99-515-806-nb-classifier.qza\n",
      "Resolving data.qiime2.org (data.qiime2.org)... 52.35.38.247\n",
      "Connecting to data.qiime2.org (data.qiime2.org)|52.35.38.247|:443... connected.\n",
      "HTTP request sent, awaiting response... 302 FOUND\n",
      "Location: https://s3-us-west-2.amazonaws.com/qiime2-data/2020.8/common/silva-138-99-515-806-nb-classifier.qza [following]\n",
      "--2020-12-27 08:35:32--  https://s3-us-west-2.amazonaws.com/qiime2-data/2020.8/common/silva-138-99-515-806-nb-classifier.qza\n",
      "Resolving s3-us-west-2.amazonaws.com (s3-us-west-2.amazonaws.com)... 52.218.209.24\n",
      "Connecting to s3-us-west-2.amazonaws.com (s3-us-west-2.amazonaws.com)|52.218.209.24|:443... connected.\n",
      "HTTP request sent, awaiting response... 200 OK\n",
      "Length: 153517385 (146M) [binary/octet-stream]\n",
      "Saving to: ‘DB/silva-138-99-515-806-nb-classifier.qza’\n",
      "\n",
      "DB/silva-138-99-515 100%[===================>] 146.41M  4.06MB/s    in 51s     \n",
      "\n",
      "2020-12-27 08:36:24 (2.86 MB/s) - ‘DB/silva-138-99-515-806-nb-classifier.qza’ saved [153517385/153517385]\n",
      "\n"
     ]
    }
   ],
   "source": [
    "!wget https://data.qiime2.org/2020.8/common/silva-138-99-515-806-nb-classifier.qza -O DB/silva-138-99-515-806-nb-classifier.qza"
   ]
  },
  {
   "cell_type": "code",
   "execution_count": 19,
   "metadata": {},
   "outputs": [
    {
     "name": "stdout",
     "output_type": "stream",
     "text": [
      "/home/amir/anaconda3/envs/qiime2-2020.8/lib/python3.6/site-packages/skbio/util/_testing.py:15: FutureWarning: pandas.util.testing is deprecated. Use the functions in the public API at pandas.testing instead.\n",
      "  import pandas.util.testing as pdt\n",
      "\u001b[32mSaved FeatureData[Taxonomy] to: dada/16SrRNA/taxonomy.qza\u001b[0m\n"
     ]
    }
   ],
   "source": [
    "!qiime feature-classifier classify-sklearn \\\n",
    "  --i-classifier DB/silva-138-99-515-806-nb-classifier.qza \\\n",
    "  --i-reads dada/16SrRNA/rep-seqs.qza \\\n",
    "  --o-classification dada/16SrRNA/taxonomy.qza"
   ]
  },
  {
   "cell_type": "markdown",
   "metadata": {},
   "source": [
    "### Make ASV tree"
   ]
  },
  {
   "cell_type": "code",
   "execution_count": 20,
   "metadata": {},
   "outputs": [
    {
     "name": "stdout",
     "output_type": "stream",
     "text": [
      "/home/amir/anaconda3/envs/qiime2-2020.8/lib/python3.6/site-packages/skbio/util/_testing.py:15: FutureWarning: pandas.util.testing is deprecated. Use the functions in the public API at pandas.testing instead.\n",
      "  import pandas.util.testing as pdt\n",
      "\u001b[32mSaved FeatureData[AlignedSequence] to: dada/16SrRNA/aligned-rep-seqs.qza\u001b[0m\n",
      "\u001b[32mSaved FeatureData[AlignedSequence] to: dada/16SrRNA/masked-aligned-rep-seqs.qza\u001b[0m\n",
      "\u001b[32mSaved Phylogeny[Unrooted] to: dada/16SrRNA/unrooted-tree.qza\u001b[0m\n",
      "\u001b[32mSaved Phylogeny[Rooted] to: dada/16SrRNA/rooted-tree.qza\u001b[0m\n"
     ]
    }
   ],
   "source": [
    "!qiime phylogeny align-to-tree-mafft-fasttree \\\n",
    "  --i-sequences dada/16SrRNA/rep-seqs.qza \\\n",
    "  --o-alignment dada/16SrRNA/aligned-rep-seqs.qza \\\n",
    "  --o-masked-alignment dada/16SrRNA/masked-aligned-rep-seqs.qza \\\n",
    "  --o-tree dada/16SrRNA/unrooted-tree.qza \\\n",
    "  --o-rooted-tree dada/16SrRNA/rooted-tree.qza"
   ]
  }
 ],
 "metadata": {
  "kernelspec": {
   "display_name": "Python 3",
   "language": "python",
   "name": "python3"
  },
  "language_info": {
   "codemirror_mode": {
    "name": "ipython",
    "version": 3
   },
   "file_extension": ".py",
   "mimetype": "text/x-python",
   "name": "python",
   "nbconvert_exporter": "python",
   "pygments_lexer": "ipython3",
   "version": "3.6.10"
  }
 },
 "nbformat": 4,
 "nbformat_minor": 4
}
