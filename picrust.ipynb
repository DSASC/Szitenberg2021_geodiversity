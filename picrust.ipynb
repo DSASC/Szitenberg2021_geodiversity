{
 "cells": [
  {
   "cell_type": "code",
   "execution_count": 3,
   "metadata": {},
   "outputs": [
    {
     "name": "stderr",
     "output_type": "stream",
     "text": [
      "/home/amir/anaconda2/lib/python2.7/site-packages/ipykernel_launcher.py:29: FutureWarning: read_table is deprecated, use read_csv instead, passing sep='\\t'.\n"
     ]
    }
   ],
   "source": [
    "from Bio import SeqIO\n",
    "import pandas as pd\n",
    "\n",
    "\n",
    "for marker in ['16SrRNA','ITS1']:\n",
    "    \n",
    "    outdir = 'picrust/%s' % marker\n",
    "    \n",
    "    !mkdir -p $outdir\n",
    "    \n",
    "    qza = 'dada/%s/rep-seqs.qza' % marker\n",
    "    a = !unzip $qza\n",
    "    digest = a[1].split('/')[0].replace('  inflating: ','')\n",
    "    inf = digest + '/data/dna-sequences.fasta'\n",
    "    repseqs = SeqIO.to_dict(SeqIO.parse(inf,'fasta'))\n",
    "    !rm -r $digest \n",
    "\n",
    "    #get biom\n",
    "    qza = 'diversity/%s/rarefied_table.qza' % marker\n",
    "    a = !unzip $qza\n",
    "    digest = a[1].split('/')[0].replace('  inflating: ','')\n",
    "    inf = digest + '/data/feature-table.biom'\n",
    "    biom_file = 'picrust/%s/table.biom' % marker\n",
    "    a = !cp $inf $biom_file\n",
    "\n",
    "    # get fasta\n",
    "    outf = 'temp.%s' % digest\n",
    "    a = !biom convert -i $inf -o $outf --to-tsv\n",
    "    biom = pd.read_table(outf,skiprows=1,index_col=0)\n",
    "\n",
    "    with open('picrust/%s/repseq.fasta' % marker,'wt') as hndl:\n",
    "        for ind in biom.index:\n",
    "            r = repseqs[ind]\n",
    "            hndl.write('>'+r.id+'\\n')\n",
    "            hndl.write(str(r.seq).replace('N','')+'\\n')\n",
    "\n",
    "    !rm -r $digest\n",
    "    !rm $outf"
   ]
  },
  {
   "cell_type": "code",
   "execution_count": null,
   "metadata": {},
   "outputs": [],
   "source": [
    "for marker in ['16SrRNA','ITS1']:\n",
    "\n",
    "    fasta = 'picrust/%s/repseq.fasta' % marker\n",
    "    biom = 'picrust/%s/table.biom' % marker\n",
    "    outputs = 'picrust/%s/output' % marker\n",
    "    EC_no_desc = 'picrust/%s/output/EC_metagenome_out/pred_metagenome_unstrat.tsv.gz' % marker\n",
    "    EC_desc = 'picrust/%s/output/EC_metagenome_out/pred_metagenome_unstrat_descrip.tsv.gz' % marker\n",
    "    path_no_desc = 'picrust/%s/output/pathways_out/path_abun_unstrat.tsv.gz' % marker\n",
    "    path_desc = 'picrust/%s/output/pathways_out/path_abun_unstrat_descrip.tsv.gz' % marker\n",
    "    \n",
    "    !picrust2_pipeline.py \\\n",
    "        -s $fasta \\\n",
    "        -i $biom \\\n",
    "        --remove_intermediate \\\n",
    "        -o $outputs -p 2\n",
    "\n",
    "    !add_descriptions.py \\\n",
    "        -i $EC_no_desc \\\n",
    "        -m EC \\\n",
    "        -o $EC_desc\n",
    "\n",
    "    !add_descriptions.py \\\n",
    "        -i $path_no_desc \\\n",
    "        -m METACYC \\\n",
    "        -o $path_desc"
   ]
  },
  {
   "cell_type": "code",
   "execution_count": null,
   "metadata": {},
   "outputs": [],
   "source": []
  }
 ],
 "metadata": {
  "kernelspec": {
   "display_name": "Python 2",
   "language": "python",
   "name": "python2"
  },
  "language_info": {
   "codemirror_mode": {
    "name": "ipython",
    "version": 2
   },
   "file_extension": ".py",
   "mimetype": "text/x-python",
   "name": "python",
   "nbconvert_exporter": "python",
   "pygments_lexer": "ipython2",
   "version": "2.7.16"
  }
 },
 "nbformat": 4,
 "nbformat_minor": 2
}
